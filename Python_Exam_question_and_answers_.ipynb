{
  "nbformat": 4,
  "nbformat_minor": 0,
  "metadata": {
    "colab": {
      "provenance": []
    },
    "kernelspec": {
      "name": "python3",
      "display_name": "Python 3"
    },
    "language_info": {
      "name": "python"
    }
  },
  "cells": [
    {
      "cell_type": "markdown",
      "source": [
        "# What is Python, and why is it popular?\n",
        "->Python is a programming language that is popular because it is easy to learn, versatile, and has many applications. It is used in web development, data science, and machine learning.\n",
        " > Easy to learn,\n",
        " > Versatile,\n",
        " > Cost effective,\n",
        " > Large community,\n",
        " > Extensive libraries."
      ],
      "metadata": {
        "id": "E068NmuvBAa5"
      }
    },
    {
      "cell_type": "markdown",
      "source": [
        "# What is an interpreter in Python?\n",
        "->A Python interpreter is a program that translates Python code into machine code and executes it. It allows programmers to test and run code line by line."
      ],
      "metadata": {
        "id": "OhxuvMn-B-XG"
      }
    },
    {
      "cell_type": "markdown",
      "source": [
        "#What are pre-defined keywords in Python?\n",
        "->Predefined keywords in Python are words that have a specific meaning and are reserved for use in Python programs.\n"
      ],
      "metadata": {
        "id": "NeeMasziCRjq"
      }
    },
    {
      "cell_type": "markdown",
      "source": [
        "#Can keywords be used as variable names?\n",
        "-> No, keywords cannot be used as variable names because they are reserved words that define the structure and syntax of a programming language."
      ],
      "metadata": {
        "id": "WNB7Pmr6CfFA"
      }
    },
    {
      "cell_type": "markdown",
      "source": [
        "#What is mutability in Python?\n",
        "-> In Python, mutability is the ability of an object to change after it has been created. Mutable objects can be modified in place, meaning that the original object is changed, not a new object."
      ],
      "metadata": {
        "id": "EdMWCL0nCrzJ"
      }
    },
    {
      "cell_type": "markdown",
      "source": [
        "# Why are lists mutable, but tuples are immutable?\n",
        "->Tuples and lists are the same in every way except two: tuples use parentheses instead of square brackets, and the items in tuples cannot be modified"
      ],
      "metadata": {
        "id": "F1GfEVUbC2la"
      }
    },
    {
      "cell_type": "markdown",
      "source": [
        "# What is the difference between “==” and “is” operators in Python?\n",
        "-> In Python, the == operator compares the values of two objects, while the **is** operator compares whether two variables point to the same object."
      ],
      "metadata": {
        "id": "vCEI5uIYDGFu"
      }
    },
    {
      "cell_type": "markdown",
      "source": [
        "# What are logical operators in Python?\n",
        "->Logical operators in Python are keywords that evaluate conditions and produce Boolean values. They are used in conditional statements to make decisions based on specific conditions."
      ],
      "metadata": {
        "id": "O5TWoz_dDjqe"
      }
    },
    {
      "cell_type": "markdown",
      "source": [
        "# What is type casting in Python ?\n",
        "-> Type casting, also known as type conversion, is the process of changing a variable's data type to another data type in Python."
      ],
      "metadata": {
        "id": "g-kSZhBQEwpG"
      }
    },
    {
      "cell_type": "markdown",
      "source": [
        "#  What is the difference between implicit and explicit type casting ?\n",
        "-> Implicit type casting is automatic, while explicit type casting is manual. Implicit type casting is used when there's no risk of data loss, while explicit type casting is used when there's a chance of data loss."
      ],
      "metadata": {
        "id": "DSuNfbasE-7c"
      }
    },
    {
      "cell_type": "markdown",
      "source": [
        "# What is the purpose of conditional statements in Python ?\n",
        "-> Conditional statements in Python control the flow of a program by executing code based on certain conditions. They can make code more efficient and easier to read."
      ],
      "metadata": {
        "id": "qleStYa_FP84"
      }
    },
    {
      "cell_type": "markdown",
      "source": [
        "# How does the elif statement work ?\n",
        "-> The “elif” keyword in Python, stands for “else if”. It can be used in conditional statements to check for multiple conditions. For example, if the first condition is false, it moves on to the next “elif” statement to check if that condition is true."
      ],
      "metadata": {
        "id": "YF9JTrNhFYpY"
      }
    },
    {
      "cell_type": "markdown",
      "source": [
        "# What is the difference between for and while loops?\n",
        "\n",
        "-> The main difference between a for loop and a while loop is that a for loop is used when you know how many times to repeat a block of code, while a while loop is used when you don't know how many times."
      ],
      "metadata": {
        "id": "vgE80bdYF8o2"
      }
    },
    {
      "cell_type": "markdown",
      "source": [
        "# Describe a scenario where a while loop is more suitable than a for loop?\n",
        "-> Based on these difference a for loop is usually better when you want a piece of code to run a certain number of times, and a while loop is better when the condition for the code to keep running is more general, such as having a boolean flag that is only set to true when a certain condition is met in the code block."
      ],
      "metadata": {
        "id": "vC0B_LQ3GJMl"
      }
    },
    {
      "cell_type": "markdown",
      "source": [
        "# Write a Python program to print \"Hello, World! ?"
      ],
      "metadata": {
        "id": "CIevklCQHD1n"
      }
    },
    {
      "cell_type": "code",
      "source": [
        "print(\"hello world\")"
      ],
      "metadata": {
        "colab": {
          "base_uri": "https://localhost:8080/"
        },
        "id": "-ol05vNyHLJD",
        "outputId": "286527c7-a808-4c39-a9ec-b8fdd370d548"
      },
      "execution_count": null,
      "outputs": [
        {
          "output_type": "stream",
          "name": "stdout",
          "text": [
            "hello world\n"
          ]
        }
      ]
    },
    {
      "cell_type": "markdown",
      "source": [
        "# Write a Python program that displays your name and age?"
      ],
      "metadata": {
        "id": "SxEyTg09INn1"
      }
    },
    {
      "cell_type": "code",
      "source": [
        "name = \"Kumar\"\n",
        "age =  28\n",
        "\n",
        "print(name)\n",
        "print(age)\n"
      ],
      "metadata": {
        "colab": {
          "base_uri": "https://localhost:8080/"
        },
        "id": "Lyrm4XMBLPPL",
        "outputId": "0140a32b-9b72-4b2d-888d-14210497a0e5"
      },
      "execution_count": null,
      "outputs": [
        {
          "output_type": "stream",
          "name": "stdout",
          "text": [
            "Kumar\n",
            "28\n"
          ]
        }
      ]
    },
    {
      "cell_type": "markdown",
      "source": [
        "# Write code to print all the pre-defined keywords in Python using the keyword library?"
      ],
      "metadata": {
        "id": "mqZNbWYTokCA"
      }
    },
    {
      "cell_type": "code",
      "source": [
        "import keyword\n",
        "print (keyword.kwlist)"
      ],
      "metadata": {
        "id": "aPepGl2GomxC",
        "colab": {
          "base_uri": "https://localhost:8080/"
        },
        "outputId": "5259b811-dd3b-4d5f-a265-031fe4ada684"
      },
      "execution_count": null,
      "outputs": [
        {
          "output_type": "stream",
          "name": "stdout",
          "text": [
            "['False', 'None', 'True', 'and', 'as', 'assert', 'async', 'await', 'break', 'class', 'continue', 'def', 'del', 'elif', 'else', 'except', 'finally', 'for', 'from', 'global', 'if', 'import', 'in', 'is', 'lambda', 'nonlocal', 'not', 'or', 'pass', 'raise', 'return', 'try', 'while', 'with', 'yield']\n"
          ]
        }
      ]
    },
    {
      "cell_type": "markdown",
      "source": [
        "# Write a program that checks if a given word is a Python keyword?"
      ],
      "metadata": {
        "id": "BWLKCPEiEHxT"
      }
    },
    {
      "cell_type": "code",
      "source": [
        "import keyword\n",
        "\n",
        "word = input(\"Enter a word: \")\n",
        "\n",
        "if keyword.iskeyword(word):\n",
        "    print(f\"{word} is a Python keyword.\")\n",
        "else:\n",
        "    print(f\"{word} is not a Python keyword.\")"
      ],
      "metadata": {
        "id": "5Gor7qC8LmUa"
      },
      "execution_count": null,
      "outputs": []
    },
    {
      "cell_type": "markdown",
      "source": [
        "#  Create a list and tuple in Python, and demonstrate how attempting to change an element works differently for each ?\n",
        "\n",
        "-> Lists are mutable, meaning their elements can be changed after creation.\n",
        "-> Tuples are immutable, meaning their elements cannot be changed after creation. Trying to modify a tuple results in a TypeError."
      ],
      "metadata": {
        "id": "3wad-KyDLwIZ"
      }
    },
    {
      "cell_type": "code",
      "source": [
        "# Creating a list (mutable)\n",
        "my_list = [1, 2, 3, 4]\n",
        "print(\"Original List:\", my_list)\n",
        "\n",
        "# Modifying an element in the list\n",
        "my_list[1] = 99\n",
        "print(\"Modified List:\", my_list)\n",
        "\n",
        "# Creating a tuple (immutable)\n",
        "my_tuple = (1, 2, 3, 4)\n",
        "print(\"Original Tuple:\", my_tuple)"
      ],
      "metadata": {
        "colab": {
          "base_uri": "https://localhost:8080/"
        },
        "id": "SnXVnSTZq16z",
        "outputId": "42d3c993-8a2f-4215-8271-e2c37f9532c3"
      },
      "execution_count": null,
      "outputs": [
        {
          "output_type": "stream",
          "name": "stdout",
          "text": [
            "Original List: [1, 2, 3, 4]\n",
            "Modified List: [1, 99, 3, 4]\n",
            "Original Tuple: (1, 2, 3, 4)\n"
          ]
        }
      ]
    },
    {
      "cell_type": "markdown",
      "source": [
        "# Write a function to demonstrate the behavior of mutable and immutable arguments?"
      ],
      "metadata": {
        "id": "Vjl6Zdq3rDI9"
      }
    },
    {
      "cell_type": "code",
      "source": [
        "def modify_arguments(immutable_arg, mutable_arg):\n",
        "    print(\"Before modification:\")\n",
        "    print(f\"Immutable argument: {immutable_arg}\")\n",
        "    print(f\"Mutable argument: {mutable_arg}\")\n",
        "\n",
        "    # Attempting to modify the immutable argument (integer)\n",
        "    immutable_arg += 5\n",
        "\n",
        "    # Modifying the mutable argument (list)\n",
        "    mutable_arg.append(50)\n",
        "\n",
        "    print(\"After modification:\")\n",
        "    print(f\"Immutable argument: {immutable_arg}\")\n",
        "    print(f\"Mutable argument: {mutable_arg}\")\n",
        "\n",
        "# Immutable argument (integer) and mutable argument (list)\n",
        "num = 5\n",
        "lst = [1, 2, 3]\n",
        "\n",
        "print(\"Before function call:\")\n",
        "print(f\"num: {num}\")\n",
        "print(f\"lst: {lst}\")\n",
        "\n",
        "modify_arguments(num, lst)\n",
        "\n",
        "print(\"After function call:\")\n",
        "print(f\"num: {num}\")  # Remains unchanged\n",
        "print(f\"lst: {lst}\")  # Modified inside function\n"
      ],
      "metadata": {
        "colab": {
          "base_uri": "https://localhost:8080/"
        },
        "id": "8WV9wGXhrKXr",
        "outputId": "7bf621be-9ab0-4670-829c-05f705d4c583"
      },
      "execution_count": null,
      "outputs": [
        {
          "output_type": "stream",
          "name": "stdout",
          "text": [
            "Before function call:\n",
            "num: 5\n",
            "lst: [1, 2, 3]\n",
            "Before modification:\n",
            "Immutable argument: 5\n",
            "Mutable argument: [1, 2, 3]\n",
            "After modification:\n",
            "Immutable argument: 10\n",
            "Mutable argument: [1, 2, 3, 50]\n",
            "After function call:\n",
            "num: 5\n",
            "lst: [1, 2, 3, 50]\n"
          ]
        }
      ]
    },
    {
      "cell_type": "markdown",
      "source": [
        "Write a program to demonstrate the use of logical operators?"
      ],
      "metadata": {
        "id": "AUiM93Sssmqw"
      }
    },
    {
      "cell_type": "code",
      "source": [
        "def logical_operators_demo(a, b):\n",
        "    print(f\"Values: a = {a}, b = {b}\")\n",
        "\n",
        "    # Logical AND\n",
        "    print(f\"a > 5 and b > 5: {a > 5 and b > 5}\")\n",
        "\n",
        "    # Logical OR\n",
        "    print(f\"a > 5 or b > 5: {a > 5 or b > 5}\")\n",
        "\n",
        "    # Logical NOT\n",
        "    print(f\"not(a > 5): {not (a > 5)}\")\n",
        "    print(f\"not(b > 5): {not (b > 5)}\")\n",
        "\n",
        "# Test the function with different values\n",
        "logical_operators_demo(6, 3)\n",
        "logical_operators_demo(4, 7)\n"
      ],
      "metadata": {
        "colab": {
          "base_uri": "https://localhost:8080/"
        },
        "id": "8rZ8weCWtE6J",
        "outputId": "fb410d3d-48ea-4593-aa3e-ec68d126b3c2"
      },
      "execution_count": null,
      "outputs": [
        {
          "output_type": "stream",
          "name": "stdout",
          "text": [
            "Values: a = 6, b = 3\n",
            "a > 5 and b > 5: False\n",
            "a > 5 or b > 5: True\n",
            "not(a > 5): False\n",
            "not(b > 5): True\n",
            "Values: a = 4, b = 7\n",
            "a > 5 and b > 5: False\n",
            "a > 5 or b > 5: True\n",
            "not(a > 5): True\n",
            "not(b > 5): False\n"
          ]
        }
      ]
    },
    {
      "cell_type": "markdown",
      "source": [
        "#  Write a Python program to convert user input from string to integer, float, and boolean types?"
      ],
      "metadata": {
        "id": "_VeLsF6H78b6"
      }
    },
    {
      "cell_type": "markdown",
      "source": [
        "The simplest way to convert a string to an integer in Python is by using the int() function."
      ],
      "metadata": {
        "id": "aQ4pUmBuEfYr"
      }
    },
    {
      "cell_type": "code",
      "source": [
        "s = \"45\"\n",
        "num = int(s)\n",
        "print (num)"
      ],
      "metadata": {
        "colab": {
          "base_uri": "https://localhost:8080/"
        },
        "id": "LSB5yyshEoR2",
        "outputId": "80b2851e-02b6-4647-e1aa-4bca2e056a49"
      },
      "execution_count": 3,
      "outputs": [
        {
          "output_type": "stream",
          "name": "stdout",
          "text": [
            "45\n"
          ]
        }
      ]
    },
    {
      "cell_type": "code",
      "source": [
        "s = \"45\"\n",
        "num = float(s)\n",
        "print (num)"
      ],
      "metadata": {
        "colab": {
          "base_uri": "https://localhost:8080/"
        },
        "id": "6SyjT3zuFJru",
        "outputId": "4ee83da7-d606-4be1-a795-1d88bd34be48"
      },
      "execution_count": 4,
      "outputs": [
        {
          "output_type": "stream",
          "name": "stdout",
          "text": [
            "45.0\n"
          ]
        }
      ]
    },
    {
      "cell_type": "code",
      "source": [
        "s = \"45\"\n",
        "num = bool(s)\n",
        "print (num)"
      ],
      "metadata": {
        "colab": {
          "base_uri": "https://localhost:8080/"
        },
        "id": "ffMggnZJFTRz",
        "outputId": "e5c544da-0a49-49e2-dcd6-fba158641254"
      },
      "execution_count": 6,
      "outputs": [
        {
          "output_type": "stream",
          "name": "stdout",
          "text": [
            "True\n"
          ]
        }
      ]
    },
    {
      "cell_type": "markdown",
      "source": [
        "# Write code to demonstrate type casting with list elements?"
      ],
      "metadata": {
        "id": "iUpQRODfFoCg"
      }
    },
    {
      "cell_type": "code",
      "source": [
        "# Define a list with mixed data types\n",
        "mixed_list = ['10', '20', '30', '40.5', '50.8']\n",
        "\n",
        "# Convert string elements to integers where possible\n",
        "int_list = [int(float(item)) for item in mixed_list]\n",
        "print(\"Converted to integers:\", int_list)\n",
        "\n",
        "# Convert string elements to floats\n",
        "float_list = [float(item) for item in mixed_list]\n",
        "print(\"Converted to floats:\", float_list)\n",
        "\n",
        "# Convert a list of numbers to strings\n",
        "string_list = [str(item) for item in int_list]\n",
        "print(\"Converted to strings:\", string_list)\n",
        "\n",
        "# Convert a list of integers to booleans\n",
        "# The original line was causing the error because it was trying to convert strings\n",
        "# representing floats directly to integers.\n",
        "# bool_list = [bool(int(item)) for item in mixed_list]\n",
        "# Instead, we convert to float first, then to bool to handle float strings\n",
        "bool_list = [bool(float(item)) for item in mixed_list]\n",
        "print(\"Converted to booleans:\", bool_list)\n"
      ],
      "metadata": {
        "colab": {
          "base_uri": "https://localhost:8080/"
        },
        "id": "ppxwBLWvFuys",
        "outputId": "0675a0ac-f1e2-426b-8637-10902dcc2ee0"
      },
      "execution_count": 8,
      "outputs": [
        {
          "output_type": "stream",
          "name": "stdout",
          "text": [
            "Converted to integers: [10, 20, 30, 40, 50]\n",
            "Converted to floats: [10.0, 20.0, 30.0, 40.5, 50.8]\n",
            "Converted to strings: ['10', '20', '30', '40', '50']\n",
            "Converted to booleans: [True, True, True, True, True]\n"
          ]
        }
      ]
    },
    {
      "cell_type": "markdown",
      "source": [
        "# Write a program that checks if a number is positive, negative, or zero?\n"
      ],
      "metadata": {
        "id": "hSu7RMSXNYQ5"
      }
    },
    {
      "cell_type": "code",
      "source": [
        "num = int(input(\"Enter a number: \"))\n",
        "\n",
        "if num > 0:\n",
        "    print(\"The number is positive.\")\n",
        "elif num < 0:\n",
        "    print(\"The number is negative.\")\n",
        "else:\n",
        "    print(\"The number is 0.\")"
      ],
      "metadata": {
        "colab": {
          "base_uri": "https://localhost:8080/"
        },
        "id": "znANX4FPOE-W",
        "outputId": "6c4e56ef-7a1a-4ffd-a4d9-b2232564acf2"
      },
      "execution_count": 19,
      "outputs": [
        {
          "output_type": "stream",
          "name": "stdout",
          "text": [
            "Enter a number: 5\n",
            "The number is positive.\n"
          ]
        }
      ]
    },
    {
      "cell_type": "markdown",
      "source": [
        "#  Write a for loop to print numbers from 1 to 10?"
      ],
      "metadata": {
        "id": "Yfc9Y8HDVa34"
      }
    },
    {
      "cell_type": "code",
      "source": [
        "for i in range(1, 11):\n",
        "  print(i)"
      ],
      "metadata": {
        "colab": {
          "base_uri": "https://localhost:8080/"
        },
        "id": "toGymSRbVfEC",
        "outputId": "51e380cd-cbb7-40a2-9270-42f2b2e86b13"
      },
      "execution_count": 12,
      "outputs": [
        {
          "output_type": "stream",
          "name": "stdout",
          "text": [
            "1\n",
            "2\n",
            "3\n",
            "4\n",
            "5\n",
            "6\n",
            "7\n",
            "8\n",
            "9\n",
            "10\n"
          ]
        }
      ]
    },
    {
      "cell_type": "markdown",
      "source": [
        "# Write a Python program to find the sum of all even numbers between 1 and 50"
      ],
      "metadata": {
        "id": "6oxr1ypZXIJK"
      }
    },
    {
      "cell_type": "code",
      "source": [
        "# Initialize sum variable\n",
        "sum_even = 0\n",
        "\n",
        "# Loop through numbers from 1 to 50\n",
        "for num in range(2, 51, 2):  # Start from 2, increment by 2 (even numbers)\n",
        "    sum_even += num\n",
        "\n",
        "# Print the result\n",
        "print(\"Sum of even numbers between 1 and 50:\", sum_even)"
      ],
      "metadata": {
        "colab": {
          "base_uri": "https://localhost:8080/"
        },
        "id": "OIKOjx4rXLfI",
        "outputId": "b13b65cf-863e-4708-db4a-0c89d88828e5"
      },
      "execution_count": 13,
      "outputs": [
        {
          "output_type": "stream",
          "name": "stdout",
          "text": [
            "Sum of even numbers between 1 and 50: 650\n"
          ]
        }
      ]
    },
    {
      "cell_type": "markdown",
      "source": [
        "# Write a program to reverse a string using a while loop?"
      ],
      "metadata": {
        "id": "esEmAl0mXpCq"
      }
    },
    {
      "cell_type": "code",
      "source": [
        "def reverse_string(s):\n",
        "    reversed_str = \"\"\n",
        "    index = len(s) - 1\n",
        "\n",
        "    while index >= 0:\n",
        "        reversed_str += s[index]\n",
        "        index -= 1\n",
        "\n",
        "    return reversed_str\n",
        "\n",
        "# Example usage\n",
        "string = \"kumar python\"\n",
        "print(\"Original string:\", string)\n",
        "print(\"Reversed string:\", reverse_string(string))"
      ],
      "metadata": {
        "colab": {
          "base_uri": "https://localhost:8080/"
        },
        "id": "qFaK7zzEXrf3",
        "outputId": "4448cf3c-f841-4a28-8fc4-32211812751f"
      },
      "execution_count": 15,
      "outputs": [
        {
          "output_type": "stream",
          "name": "stdout",
          "text": [
            "Original string: kumar python\n",
            "Reversed string: nohtyp ramuk\n"
          ]
        }
      ]
    },
    {
      "cell_type": "markdown",
      "source": [
        "# Write a Python program to calculate the factorial of a number provided by the user using a while loop?"
      ],
      "metadata": {
        "id": "Ol_1pE0_YbcX"
      }
    },
    {
      "cell_type": "code",
      "source": [
        "def factorial(n):\n",
        "    if n < 0:\n",
        "        return \"Factorial is not defined for negative numbers.\"\n",
        "\n",
        "    result = 1\n",
        "    while n > 1:\n",
        "        result *= n\n",
        "        n -= 1\n",
        "\n",
        "    return result\n",
        "\n",
        "# Get user input\n",
        "num = int(input(\"Enter a number: \"))\n",
        "print(f\"Factorial of {num} is {factorial(num)}\")"
      ],
      "metadata": {
        "colab": {
          "base_uri": "https://localhost:8080/"
        },
        "id": "GTPWDNlHY0S4",
        "outputId": "61bf77c6-3b6b-433c-828c-762d428d1ef6"
      },
      "execution_count": 18,
      "outputs": [
        {
          "output_type": "stream",
          "name": "stdout",
          "text": [
            "Enter a number: 6\n",
            "Factorial of 6 is 720\n"
          ]
        }
      ]
    }
  ]
}